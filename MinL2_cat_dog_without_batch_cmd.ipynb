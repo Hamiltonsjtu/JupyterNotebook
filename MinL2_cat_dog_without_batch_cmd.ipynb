{
 "cells": [
  {
   "cell_type": "code",
   "execution_count": 2,
   "metadata": {},
   "outputs": [
    {
     "name": "stdout",
     "output_type": "stream",
     "text": [
      "猫的训练样本为   800\n",
      "狗的训练样本为   800\n",
      "猫的测试样本为   200\n",
      "狗的测试样本为   200\n"
     ]
    }
   ],
   "source": [
    "from tensorflow.examples.tutorials.mnist import input_data\n",
    "import tensorflow as tf\n",
    "import numpy as np\n",
    "import matplotlib.pyplot as plt\n",
    "import os \n",
    "import gzip\n",
    "import random\n",
    "\n",
    "# 获取所有图片路径\n",
    "cat_filefolder = 'E:\\\\JupyterNotebook\\\\cat\\\\'\n",
    "dog_filefolder = 'E:\\\\JupyterNotebook\\\\dog\\\\'\n",
    "\n",
    "path_cat = []\n",
    "for i in range(len(os.listdir(cat_filefolder))):\n",
    "    path_cat.append(cat_filefolder + os.listdir(cat_filefolder)[i])\n",
    "path_dog = []\n",
    "for i in range(len(os.listdir(dog_filefolder))):\n",
    "    path_dog.append(dog_filefolder + os.listdir(dog_filefolder)[i])\n",
    "# 分成测试集和训练集\n",
    "test_train_factor = 0.2\n",
    "n_test_path_cat = int(len(path_cat)*test_train_factor)\n",
    "test_cat_image = np.asarray(path_cat[-n_test_path_cat:])\n",
    "train_cat_image = np.asarray(path_cat[:-n_test_path_cat])\n",
    "n_test_path_dog = int(len(path_dog)*test_train_factor)\n",
    "test_dog_image = np.asarray(path_dog[-n_test_path_dog:])\n",
    "train_dog_image = np.asarray(path_dog[:-n_test_path_dog])\n",
    "print ('猫的训练样本为%6d'%len(train_cat_image))\n",
    "print ('狗的训练样本为%6d'%len(train_dog_image))\n",
    "print ('猫的测试样本为%6d'%len(test_cat_image))\n",
    "print ('狗的测试样本为%6d'%len(test_dog_image))"
   ]
  },
  {
   "cell_type": "code",
   "execution_count": 4,
   "metadata": {},
   "outputs": [],
   "source": [
    "tf.image.random_flip_left_right?"
   ]
  },
  {
   "cell_type": "code",
   "execution_count": 48,
   "metadata": {},
   "outputs": [
    {
     "name": "stdout",
     "output_type": "stream",
     "text": [
      "(949, 1000, 3)\n",
      "(655, 1067, 3)\n",
      "(664, 1000, 3)\n",
      "(960, 1200, 3)\n",
      "(800, 1200, 3)\n",
      "(800, 1200, 3)\n",
      "(946, 1200, 3)\n",
      "(800, 1200, 3)\n",
      "(682, 1024, 3)\n",
      "(1024, 683, 3)\n",
      "(823, 1200, 3)\n",
      "(1200, 798, 3)\n",
      "(800, 1200, 3)\n",
      "(978, 1200, 3)\n",
      "(685, 1024, 3)\n",
      "(800, 1200, 3)\n",
      "(883, 1200, 3)\n",
      "(800, 1200, 3)\n",
      "(798, 1200, 3)\n",
      "(676, 1200, 3)\n",
      "(801, 1200, 3)\n",
      "(800, 1200, 3)\n",
      "(1080, 1080, 3)\n",
      "(800, 1200, 3)\n",
      "(800, 1200, 3)\n",
      "(682, 1025, 3)\n",
      "(696, 1000, 3)\n",
      "(1200, 800, 3)\n",
      "(680, 1027, 3)\n",
      "(1024, 819, 3)\n",
      "(789, 1200, 3)\n",
      "(758, 1000, 3)\n",
      "(1027, 680, 3)\n",
      "(799, 1200, 3)\n",
      "(750, 1000, 3)\n",
      "(1000, 1000, 3)\n",
      "(1200, 799, 3)\n",
      "(1041, 671, 3)\n",
      "(666, 1000, 3)\n",
      "(666, 1000, 3)\n"
     ]
    }
   ],
   "source": [
    "# 使用tf.data.Dataset实现Batch Generator\n",
    "\n",
    "for i in range(40):\n",
    "    image = tf.read_file(path_dog[i]) #读取图像\n",
    "    image = tf.image.decode_image(image) # 图像解码\n",
    "    with tf.Session() as sess:\n",
    "        print (np.shape(sess.run(image)))\n",
    "\n",
    "    "
   ]
  },
  {
   "cell_type": "code",
   "execution_count": 332,
   "metadata": {},
   "outputs": [],
   "source": [
    "train_x_file = os.path.join(data_file, files[3])\n",
    "train_y_file = os.path.join(data_file, files[1])\n",
    "test_x_file = os.path.join(data_file, files[2])\n",
    "test_y_file = os.path.join(data_file, files[0])\n",
    "# print (test_x_file)\n",
    "with gzip.open(train_y_file, 'rb') as lbpath:\n",
    "    y_train = np.frombuffer(lbpath.read(), dtype = np.uint8, offset=8)\n",
    "with gzip.open(train_x_file, 'rb') as imgpath:\n",
    "    x_train = np.frombuffer(imgpath.read(), dtype = np.uint8, offset=16).reshape(len(y_train), 784)\n",
    "with gzip.open(test_y_file, 'rb') as lbpath:\n",
    "    y_test = np.frombuffer(lbpath.read(), dtype = np.uint8, offset=8)\n",
    "with gzip.open(test_x_file, 'rb') as imgpath:\n",
    "    x_test = np.frombuffer(imgpath.read(), dtype = np.uint8, offset=16).reshape(len(y_test),784)\n",
    "x_train = x_train.astype('float')\n",
    "y_train = y_train.astype('uint8')\n",
    "# print ((y_train))\n",
    "# y_train = tf.one_hot(y_train, 10)\n",
    "# with tf.Session() as sess:\n",
    "#     print (sess.run(y_train))\n",
    "x_test = x_test.astype('float')\n",
    "y_test = y_test.astype('uint8')\n",
    "\n",
    "#  实现回归模型\n",
    "x = tf.placeholder('float', [None, 784])\n",
    "W = tf.Variable(tf.random_uniform([784, 10]))\n",
    "b = tf.Variable(tf.zeros([10]))\n",
    "y = tf.nn.softmax(tf.matmul(x,W) + b)\n",
    "\n",
    "# 训练模型\n",
    "y_ = tf.placeholder('float', [None, 10])\n",
    "cross_entropy = - tf.reduce_sum(y_*tf.log(y))\n",
    "train_step = tf.train.GradientDescentOptimizer(0.01).minimize(cross_entropy)\n",
    "init  = tf.initialize_all_variables()"
   ]
  },
  {
   "cell_type": "code",
   "execution_count": 333,
   "metadata": {},
   "outputs": [],
   "source": [
    "batch_size = 100"
   ]
  },
  {
   "cell_type": "code",
   "execution_count": 339,
   "metadata": {},
   "outputs": [],
   "source": [
    "for i in range(500):\n",
    "#     print (\"Step:\" , i+1)\n",
    "    train_index = np.floor(np.random.uniform(0,1,batch_size)*np.shape(x_train[:,0])).astype(int)\n",
    "    x_train_batch = x_train[train_index,:]\n",
    "    # print (y_train)\n",
    "    y_train_batch = y_train[train_index]\n",
    "#     print (y_train_batch)\n",
    "    with tf.Session() as sess:\n",
    "            sess.run(init)\n",
    "            output = sess.run(tf.one_hot(y_train_batch, 10))\n",
    "            sess.run(train_step, feed_dict = {x:x_train_batch, y_:output})"
   ]
  },
  {
   "cell_type": "code",
   "execution_count": 296,
   "metadata": {},
   "outputs": [
    {
     "name": "stdout",
     "output_type": "stream",
     "text": [
      "Object `tf.next_batch` not found.\n"
     ]
    }
   ],
   "source": [
    "# 用tf自带的随机变量训练\n"
   ]
  },
  {
   "cell_type": "code",
   "execution_count": 340,
   "metadata": {},
   "outputs": [
    {
     "name": "stdout",
     "output_type": "stream",
     "text": [
      "C:\\Users\\kc\\Downloads\n"
     ]
    },
    {
     "ename": "ValueError",
     "evalue": "Parent directory of file_name.ckpt doesn't exist, can't save.",
     "output_type": "error",
     "traceback": [
      "\u001b[1;31m---------------------------------------------------------------------------\u001b[0m",
      "\u001b[1;31mFailedPreconditionError\u001b[0m                   Traceback (most recent call last)",
      "\u001b[1;32mD:\\Anaconda\\envs\\tf\\lib\\site-packages\\tensorflow\\python\\client\\session.py\u001b[0m in \u001b[0;36m_do_call\u001b[1;34m(self, fn, *args)\u001b[0m\n\u001b[0;32m   1277\u001b[0m     \u001b[1;32mtry\u001b[0m\u001b[1;33m:\u001b[0m\u001b[1;33m\u001b[0m\u001b[0m\n\u001b[1;32m-> 1278\u001b[1;33m       \u001b[1;32mreturn\u001b[0m \u001b[0mfn\u001b[0m\u001b[1;33m(\u001b[0m\u001b[1;33m*\u001b[0m\u001b[0margs\u001b[0m\u001b[1;33m)\u001b[0m\u001b[1;33m\u001b[0m\u001b[0m\n\u001b[0m\u001b[0;32m   1279\u001b[0m     \u001b[1;32mexcept\u001b[0m \u001b[0merrors\u001b[0m\u001b[1;33m.\u001b[0m\u001b[0mOpError\u001b[0m \u001b[1;32mas\u001b[0m \u001b[0me\u001b[0m\u001b[1;33m:\u001b[0m\u001b[1;33m\u001b[0m\u001b[0m\n",
      "\u001b[1;32mD:\\Anaconda\\envs\\tf\\lib\\site-packages\\tensorflow\\python\\client\\session.py\u001b[0m in \u001b[0;36m_run_fn\u001b[1;34m(feed_dict, fetch_list, target_list, options, run_metadata)\u001b[0m\n\u001b[0;32m   1262\u001b[0m       return self._call_tf_sessionrun(\n\u001b[1;32m-> 1263\u001b[1;33m           options, feed_dict, fetch_list, target_list, run_metadata)\n\u001b[0m\u001b[0;32m   1264\u001b[0m \u001b[1;33m\u001b[0m\u001b[0m\n",
      "\u001b[1;32mD:\\Anaconda\\envs\\tf\\lib\\site-packages\\tensorflow\\python\\client\\session.py\u001b[0m in \u001b[0;36m_call_tf_sessionrun\u001b[1;34m(self, options, feed_dict, fetch_list, target_list, run_metadata)\u001b[0m\n\u001b[0;32m   1349\u001b[0m         \u001b[0mself\u001b[0m\u001b[1;33m.\u001b[0m\u001b[0m_session\u001b[0m\u001b[1;33m,\u001b[0m \u001b[0moptions\u001b[0m\u001b[1;33m,\u001b[0m \u001b[0mfeed_dict\u001b[0m\u001b[1;33m,\u001b[0m \u001b[0mfetch_list\u001b[0m\u001b[1;33m,\u001b[0m \u001b[0mtarget_list\u001b[0m\u001b[1;33m,\u001b[0m\u001b[1;33m\u001b[0m\u001b[0m\n\u001b[1;32m-> 1350\u001b[1;33m         run_metadata)\n\u001b[0m\u001b[0;32m   1351\u001b[0m \u001b[1;33m\u001b[0m\u001b[0m\n",
      "\u001b[1;31mFailedPreconditionError\u001b[0m: Attempting to use uninitialized value Variable\n\t [[Node: save_7/SaveV2 = SaveV2[dtypes=[DT_FLOAT, DT_FLOAT, DT_FLOAT, DT_FLOAT, DT_FLOAT, ..., DT_FLOAT, DT_FLOAT, DT_FLOAT, DT_FLOAT, DT_FLOAT], _device=\"/job:localhost/replica:0/task:0/device:CPU:0\"](_arg_save_7/Const_0_0, save_7/SaveV2/tensor_names, save_7/SaveV2/shape_and_slices, Variable, Variable_1, Variable_10, Variable_11, Variable_12, Variable_13, Variable_14, Variable_15, Variable_16, Variable_17, Variable_18, Variable_19, Variable_2, Variable_20, Variable_21, Variable_22, Variable_23, Variable_24, Variable_25, Variable_26, Variable_27, Variable_28, Variable_29, Variable_3, Variable_30, Variable_31, Variable_32, Variable_33, Variable_34, Variable_35, Variable_36, Variable_37, Variable_38, Variable_39, Variable_4, Variable_40, Variable_41, Variable_42, Variable_43, Variable_44, Variable_45, Variable_46, Variable_47, Variable_48, Variable_49, Variable_5, Variable_50, Variable_51, Variable_52, Variable_53, Variable_54, Variable_55, Variable_56, Variable_57, Variable_58, Variable_59, Variable_6, Variable_60, Variable_61, Variable_62, Variable_63, Variable_64, Variable_65, Variable_66, Variable_67, Variable_68, Variable_69, Variable_7, Variable_70, Variable_71, Variable_72, Variable_73, Variable_74, Variable_75, Variable_76, Variable_77, Variable_78, Variable_79, Variable_8, Variable_80, Variable_81, Variable_82, Variable_83, Variable_9)]]",
      "\nDuring handling of the above exception, another exception occurred:\n",
      "\u001b[1;31mFailedPreconditionError\u001b[0m                   Traceback (most recent call last)",
      "\u001b[1;32mD:\\Anaconda\\envs\\tf\\lib\\site-packages\\tensorflow\\python\\training\\saver.py\u001b[0m in \u001b[0;36msave\u001b[1;34m(self, sess, save_path, global_step, latest_filename, meta_graph_suffix, write_meta_graph, write_state, strip_default_attrs)\u001b[0m\n\u001b[0;32m   1619\u001b[0m               \u001b[0mself\u001b[0m\u001b[1;33m.\u001b[0m\u001b[0msaver_def\u001b[0m\u001b[1;33m.\u001b[0m\u001b[0msave_tensor_name\u001b[0m\u001b[1;33m,\u001b[0m\u001b[1;33m\u001b[0m\u001b[0m\n\u001b[1;32m-> 1620\u001b[1;33m               {self.saver_def.filename_tensor_name: checkpoint_file})\n\u001b[0m\u001b[0;32m   1621\u001b[0m \u001b[1;33m\u001b[0m\u001b[0m\n",
      "\u001b[1;32mD:\\Anaconda\\envs\\tf\\lib\\site-packages\\tensorflow\\python\\client\\session.py\u001b[0m in \u001b[0;36mrun\u001b[1;34m(self, fetches, feed_dict, options, run_metadata)\u001b[0m\n\u001b[0;32m    876\u001b[0m       result = self._run(None, fetches, feed_dict, options_ptr,\n\u001b[1;32m--> 877\u001b[1;33m                          run_metadata_ptr)\n\u001b[0m\u001b[0;32m    878\u001b[0m       \u001b[1;32mif\u001b[0m \u001b[0mrun_metadata\u001b[0m\u001b[1;33m:\u001b[0m\u001b[1;33m\u001b[0m\u001b[0m\n",
      "\u001b[1;32mD:\\Anaconda\\envs\\tf\\lib\\site-packages\\tensorflow\\python\\client\\session.py\u001b[0m in \u001b[0;36m_run\u001b[1;34m(self, handle, fetches, feed_dict, options, run_metadata)\u001b[0m\n\u001b[0;32m   1099\u001b[0m       results = self._do_run(handle, final_targets, final_fetches,\n\u001b[1;32m-> 1100\u001b[1;33m                              feed_dict_tensor, options, run_metadata)\n\u001b[0m\u001b[0;32m   1101\u001b[0m     \u001b[1;32melse\u001b[0m\u001b[1;33m:\u001b[0m\u001b[1;33m\u001b[0m\u001b[0m\n",
      "\u001b[1;32mD:\\Anaconda\\envs\\tf\\lib\\site-packages\\tensorflow\\python\\client\\session.py\u001b[0m in \u001b[0;36m_do_run\u001b[1;34m(self, handle, target_list, fetch_list, feed_dict, options, run_metadata)\u001b[0m\n\u001b[0;32m   1271\u001b[0m       return self._do_call(_run_fn, feeds, fetches, targets, options,\n\u001b[1;32m-> 1272\u001b[1;33m                            run_metadata)\n\u001b[0m\u001b[0;32m   1273\u001b[0m     \u001b[1;32melse\u001b[0m\u001b[1;33m:\u001b[0m\u001b[1;33m\u001b[0m\u001b[0m\n",
      "\u001b[1;32mD:\\Anaconda\\envs\\tf\\lib\\site-packages\\tensorflow\\python\\client\\session.py\u001b[0m in \u001b[0;36m_do_call\u001b[1;34m(self, fn, *args)\u001b[0m\n\u001b[0;32m   1290\u001b[0m           \u001b[1;32mpass\u001b[0m\u001b[1;33m\u001b[0m\u001b[0m\n\u001b[1;32m-> 1291\u001b[1;33m       \u001b[1;32mraise\u001b[0m \u001b[0mtype\u001b[0m\u001b[1;33m(\u001b[0m\u001b[0me\u001b[0m\u001b[1;33m)\u001b[0m\u001b[1;33m(\u001b[0m\u001b[0mnode_def\u001b[0m\u001b[1;33m,\u001b[0m \u001b[0mop\u001b[0m\u001b[1;33m,\u001b[0m \u001b[0mmessage\u001b[0m\u001b[1;33m)\u001b[0m\u001b[1;33m\u001b[0m\u001b[0m\n\u001b[0m\u001b[0;32m   1292\u001b[0m \u001b[1;33m\u001b[0m\u001b[0m\n",
      "\u001b[1;31mFailedPreconditionError\u001b[0m: Attempting to use uninitialized value Variable\n\t [[Node: save_7/SaveV2 = SaveV2[dtypes=[DT_FLOAT, DT_FLOAT, DT_FLOAT, DT_FLOAT, DT_FLOAT, ..., DT_FLOAT, DT_FLOAT, DT_FLOAT, DT_FLOAT, DT_FLOAT], _device=\"/job:localhost/replica:0/task:0/device:CPU:0\"](_arg_save_7/Const_0_0, save_7/SaveV2/tensor_names, save_7/SaveV2/shape_and_slices, Variable, Variable_1, Variable_10, Variable_11, Variable_12, Variable_13, Variable_14, Variable_15, Variable_16, Variable_17, Variable_18, Variable_19, Variable_2, Variable_20, Variable_21, Variable_22, Variable_23, Variable_24, Variable_25, Variable_26, Variable_27, Variable_28, Variable_29, Variable_3, Variable_30, Variable_31, Variable_32, Variable_33, Variable_34, Variable_35, Variable_36, Variable_37, Variable_38, Variable_39, Variable_4, Variable_40, Variable_41, Variable_42, Variable_43, Variable_44, Variable_45, Variable_46, Variable_47, Variable_48, Variable_49, Variable_5, Variable_50, Variable_51, Variable_52, Variable_53, Variable_54, Variable_55, Variable_56, Variable_57, Variable_58, Variable_59, Variable_6, Variable_60, Variable_61, Variable_62, Variable_63, Variable_64, Variable_65, Variable_66, Variable_67, Variable_68, Variable_69, Variable_7, Variable_70, Variable_71, Variable_72, Variable_73, Variable_74, Variable_75, Variable_76, Variable_77, Variable_78, Variable_79, Variable_8, Variable_80, Variable_81, Variable_82, Variable_83, Variable_9)]]\n\nCaused by op 'save_7/SaveV2', defined at:\n  File \"D:\\Anaconda\\envs\\tf\\lib\\runpy.py\", line 193, in _run_module_as_main\n    \"__main__\", mod_spec)\n  File \"D:\\Anaconda\\envs\\tf\\lib\\runpy.py\", line 85, in _run_code\n    exec(code, run_globals)\n  File \"D:\\Anaconda\\envs\\tf\\lib\\site-packages\\ipykernel_launcher.py\", line 16, in <module>\n    app.launch_new_instance()\n  File \"D:\\Anaconda\\envs\\tf\\lib\\site-packages\\traitlets\\config\\application.py\", line 658, in launch_instance\n    app.start()\n  File \"D:\\Anaconda\\envs\\tf\\lib\\site-packages\\ipykernel\\kernelapp.py\", line 486, in start\n    self.io_loop.start()\n  File \"D:\\Anaconda\\envs\\tf\\lib\\site-packages\\tornado\\platform\\asyncio.py\", line 127, in start\n    self.asyncio_loop.run_forever()\n  File \"D:\\Anaconda\\envs\\tf\\lib\\asyncio\\base_events.py\", line 421, in run_forever\n    self._run_once()\n  File \"D:\\Anaconda\\envs\\tf\\lib\\asyncio\\base_events.py\", line 1425, in _run_once\n    handle._run()\n  File \"D:\\Anaconda\\envs\\tf\\lib\\asyncio\\events.py\", line 127, in _run\n    self._callback(*self._args)\n  File \"D:\\Anaconda\\envs\\tf\\lib\\site-packages\\tornado\\ioloop.py\", line 759, in _run_callback\n    ret = callback()\n  File \"D:\\Anaconda\\envs\\tf\\lib\\site-packages\\tornado\\stack_context.py\", line 276, in null_wrapper\n    return fn(*args, **kwargs)\n  File \"D:\\Anaconda\\envs\\tf\\lib\\site-packages\\zmq\\eventloop\\zmqstream.py\", line 536, in <lambda>\n    self.io_loop.add_callback(lambda : self._handle_events(self.socket, 0))\n  File \"D:\\Anaconda\\envs\\tf\\lib\\site-packages\\zmq\\eventloop\\zmqstream.py\", line 450, in _handle_events\n    self._handle_recv()\n  File \"D:\\Anaconda\\envs\\tf\\lib\\site-packages\\zmq\\eventloop\\zmqstream.py\", line 480, in _handle_recv\n    self._run_callback(callback, msg)\n  File \"D:\\Anaconda\\envs\\tf\\lib\\site-packages\\zmq\\eventloop\\zmqstream.py\", line 432, in _run_callback\n    callback(*args, **kwargs)\n  File \"D:\\Anaconda\\envs\\tf\\lib\\site-packages\\tornado\\stack_context.py\", line 276, in null_wrapper\n    return fn(*args, **kwargs)\n  File \"D:\\Anaconda\\envs\\tf\\lib\\site-packages\\ipykernel\\kernelbase.py\", line 283, in dispatcher\n    return self.dispatch_shell(stream, msg)\n  File \"D:\\Anaconda\\envs\\tf\\lib\\site-packages\\ipykernel\\kernelbase.py\", line 233, in dispatch_shell\n    handler(stream, idents, msg)\n  File \"D:\\Anaconda\\envs\\tf\\lib\\site-packages\\ipykernel\\kernelbase.py\", line 399, in execute_request\n    user_expressions, allow_stdin)\n  File \"D:\\Anaconda\\envs\\tf\\lib\\site-packages\\ipykernel\\ipkernel.py\", line 208, in do_execute\n    res = shell.run_cell(code, store_history=store_history, silent=silent)\n  File \"D:\\Anaconda\\envs\\tf\\lib\\site-packages\\ipykernel\\zmqshell.py\", line 537, in run_cell\n    return super(ZMQInteractiveShell, self).run_cell(*args, **kwargs)\n  File \"D:\\Anaconda\\envs\\tf\\lib\\site-packages\\IPython\\core\\interactiveshell.py\", line 2662, in run_cell\n    raw_cell, store_history, silent, shell_futures)\n  File \"D:\\Anaconda\\envs\\tf\\lib\\site-packages\\IPython\\core\\interactiveshell.py\", line 2785, in _run_cell\n    interactivity=interactivity, compiler=compiler, result=result)\n  File \"D:\\Anaconda\\envs\\tf\\lib\\site-packages\\IPython\\core\\interactiveshell.py\", line 2903, in run_ast_nodes\n    if self.run_code(code, result):\n  File \"D:\\Anaconda\\envs\\tf\\lib\\site-packages\\IPython\\core\\interactiveshell.py\", line 2963, in run_code\n    exec(code_obj, self.user_global_ns, self.user_ns)\n  File \"<ipython-input-340-6228f4851476>\", line 3, in <module>\n    saver = tf.train.Saver()\n  File \"D:\\Anaconda\\envs\\tf\\lib\\site-packages\\tensorflow\\python\\training\\saver.py\", line 1281, in __init__\n    self.build()\n  File \"D:\\Anaconda\\envs\\tf\\lib\\site-packages\\tensorflow\\python\\training\\saver.py\", line 1293, in build\n    self._build(self._filename, build_save=True, build_restore=True)\n  File \"D:\\Anaconda\\envs\\tf\\lib\\site-packages\\tensorflow\\python\\training\\saver.py\", line 1330, in _build\n    build_save=build_save, build_restore=build_restore)\n  File \"D:\\Anaconda\\envs\\tf\\lib\\site-packages\\tensorflow\\python\\training\\saver.py\", line 775, in _build_internal\n    save_tensor = self._AddSaveOps(filename_tensor, saveables)\n  File \"D:\\Anaconda\\envs\\tf\\lib\\site-packages\\tensorflow\\python\\training\\saver.py\", line 275, in _AddSaveOps\n    save = self.save_op(filename_tensor, saveables)\n  File \"D:\\Anaconda\\envs\\tf\\lib\\site-packages\\tensorflow\\python\\training\\saver.py\", line 193, in save_op\n    tensors)\n  File \"D:\\Anaconda\\envs\\tf\\lib\\site-packages\\tensorflow\\python\\ops\\gen_io_ops.py\", line 1686, in save_v2\n    shape_and_slices=shape_and_slices, tensors=tensors, name=name)\n  File \"D:\\Anaconda\\envs\\tf\\lib\\site-packages\\tensorflow\\python\\framework\\op_def_library.py\", line 787, in _apply_op_helper\n    op_def=op_def)\n  File \"D:\\Anaconda\\envs\\tf\\lib\\site-packages\\tensorflow\\python\\util\\deprecation.py\", line 454, in new_func\n    return func(*args, **kwargs)\n  File \"D:\\Anaconda\\envs\\tf\\lib\\site-packages\\tensorflow\\python\\framework\\ops.py\", line 3155, in create_op\n    op_def=op_def)\n  File \"D:\\Anaconda\\envs\\tf\\lib\\site-packages\\tensorflow\\python\\framework\\ops.py\", line 1717, in __init__\n    self._traceback = tf_stack.extract_stack()\n\nFailedPreconditionError (see above for traceback): Attempting to use uninitialized value Variable\n\t [[Node: save_7/SaveV2 = SaveV2[dtypes=[DT_FLOAT, DT_FLOAT, DT_FLOAT, DT_FLOAT, DT_FLOAT, ..., DT_FLOAT, DT_FLOAT, DT_FLOAT, DT_FLOAT, DT_FLOAT], _device=\"/job:localhost/replica:0/task:0/device:CPU:0\"](_arg_save_7/Const_0_0, save_7/SaveV2/tensor_names, save_7/SaveV2/shape_and_slices, Variable, Variable_1, Variable_10, Variable_11, Variable_12, Variable_13, Variable_14, Variable_15, Variable_16, Variable_17, Variable_18, Variable_19, Variable_2, Variable_20, Variable_21, Variable_22, Variable_23, Variable_24, Variable_25, Variable_26, Variable_27, Variable_28, Variable_29, Variable_3, Variable_30, Variable_31, Variable_32, Variable_33, Variable_34, Variable_35, Variable_36, Variable_37, Variable_38, Variable_39, Variable_4, Variable_40, Variable_41, Variable_42, Variable_43, Variable_44, Variable_45, Variable_46, Variable_47, Variable_48, Variable_49, Variable_5, Variable_50, Variable_51, Variable_52, Variable_53, Variable_54, Variable_55, Variable_56, Variable_57, Variable_58, Variable_59, Variable_6, Variable_60, Variable_61, Variable_62, Variable_63, Variable_64, Variable_65, Variable_66, Variable_67, Variable_68, Variable_69, Variable_7, Variable_70, Variable_71, Variable_72, Variable_73, Variable_74, Variable_75, Variable_76, Variable_77, Variable_78, Variable_79, Variable_8, Variable_80, Variable_81, Variable_82, Variable_83, Variable_9)]]\n",
      "\nDuring handling of the above exception, another exception occurred:\n",
      "\u001b[1;31mValueError\u001b[0m                                Traceback (most recent call last)",
      "\u001b[1;32m<ipython-input-340-6228f4851476>\u001b[0m in \u001b[0;36m<module>\u001b[1;34m()\u001b[0m\n\u001b[0;32m      5\u001b[0m \u001b[0mprint\u001b[0m \u001b[1;33m(\u001b[0m\u001b[0msave_path\u001b[0m\u001b[1;33m)\u001b[0m\u001b[1;33m\u001b[0m\u001b[0m\n\u001b[0;32m      6\u001b[0m \u001b[1;32mwith\u001b[0m \u001b[0mtf\u001b[0m\u001b[1;33m.\u001b[0m\u001b[0mSession\u001b[0m\u001b[1;33m(\u001b[0m\u001b[1;33m)\u001b[0m \u001b[1;32mas\u001b[0m \u001b[0msess\u001b[0m\u001b[1;33m:\u001b[0m\u001b[1;33m\u001b[0m\u001b[0m\n\u001b[1;32m----> 7\u001b[1;33m     \u001b[0msaver\u001b[0m\u001b[1;33m.\u001b[0m\u001b[0msave\u001b[0m\u001b[1;33m(\u001b[0m\u001b[0msess\u001b[0m\u001b[1;33m,\u001b[0m \u001b[1;34m\"file_name.ckpt\"\u001b[0m\u001b[1;33m)\u001b[0m\u001b[1;33m\u001b[0m\u001b[0m\n\u001b[0m",
      "\u001b[1;32mD:\\Anaconda\\envs\\tf\\lib\\site-packages\\tensorflow\\python\\training\\saver.py\u001b[0m in \u001b[0;36msave\u001b[1;34m(self, sess, save_path, global_step, latest_filename, meta_graph_suffix, write_meta_graph, write_state, strip_default_attrs)\u001b[0m\n\u001b[0;32m   1635\u001b[0m               \"Parent directory of {} doesn't exist, can't save.\".format(\n\u001b[0;32m   1636\u001b[0m                   save_path))\n\u001b[1;32m-> 1637\u001b[1;33m         \u001b[1;32mraise\u001b[0m \u001b[0mexc\u001b[0m\u001b[1;33m\u001b[0m\u001b[0m\n\u001b[0m\u001b[0;32m   1638\u001b[0m \u001b[1;33m\u001b[0m\u001b[0m\n\u001b[0;32m   1639\u001b[0m     \u001b[1;32mif\u001b[0m \u001b[0mwrite_meta_graph\u001b[0m\u001b[1;33m:\u001b[0m\u001b[1;33m\u001b[0m\u001b[0m\n",
      "\u001b[1;31mValueError\u001b[0m: Parent directory of file_name.ckpt doesn't exist, can't save."
     ]
    }
   ],
   "source": [
    "# 保存训练的模型\n",
    "# 创建saver对象，它添加了一些op用来save和restore模型参数明variable和op  初始化\n",
    "saver = tf.train.Saver()\n",
    "save_path = data_file\n",
    "print (save_path)\n",
    "with tf.Session() as sess:\n",
    "    saver.save(sess, \"file_name.ckpt\") \n"
   ]
  },
  {
   "cell_type": "code",
   "execution_count": 307,
   "metadata": {},
   "outputs": [],
   "source": [
    "# data_set = tf.data.Dataset.from_tensor_slices(tf.random_uniform([4,10], minval = 0, maxval = 1))"
   ]
  },
  {
   "cell_type": "code",
   "execution_count": 328,
   "metadata": {},
   "outputs": [],
   "source": [
    "# \n",
    "# dataset = tf.data.Dataset.range(100)\n",
    "# next_element = dataset.make_one_shot_iterator().get_next()\n",
    "# with tf.Session() as sess:\n",
    "#     for i in range(100):\n",
    "#         value = sess.run(next_element)\n",
    "#         print ('valeu is %5d' %value)\n"
   ]
  },
  {
   "cell_type": "code",
   "execution_count": 335,
   "metadata": {},
   "outputs": [],
   "source": [
    "# 可初始化迭代器\n",
    "# max_value = tf.placeholder(tf.int64, shape = [])\n",
    "# dataset = tf.data.Dataset.range(max_value)\n",
    "# iterator = dataset.make_initializable_iterator()\n",
    "# next_element = iterator.get_next()\n",
    "\n",
    "# with tf.Session() as sess:\n",
    "#     sess.run(iterator.initializer, feed_dict={max_value:100})\n",
    "#     for i in range(100):\n",
    "#         value = sess.run(next_element)\n",
    "#         print ('value is %5d' %value)\n"
   ]
  },
  {
   "cell_type": "code",
   "execution_count": null,
   "metadata": {},
   "outputs": [],
   "source": []
  }
 ],
 "metadata": {
  "kernelspec": {
   "display_name": "tf",
   "language": "python",
   "name": "tf"
  },
  "language_info": {
   "codemirror_mode": {
    "name": "ipython",
    "version": 3
   },
   "file_extension": ".py",
   "mimetype": "text/x-python",
   "name": "python",
   "nbconvert_exporter": "python",
   "pygments_lexer": "ipython3",
   "version": "3.5.5"
  }
 },
 "nbformat": 4,
 "nbformat_minor": 2
}
