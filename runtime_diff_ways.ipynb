{
 "cells": [
  {
   "cell_type": "code",
   "execution_count": 110,
   "metadata": {},
   "outputs": [
    {
     "name": "stdout",
     "output_type": "stream",
     "text": [
      "the cost time by Sess.run is 7.454061\n",
      "the cost time by assignment is 0.005984\n"
     ]
    }
   ],
   "source": [
    "import tensorflow as tf\n",
    "from tensorflow.python import debug as tf_debug\n",
    "import time \n",
    "\n",
    "import os \n",
    "x = tf.placeholder(tf.float32)\n",
    "y = tf.placeholder(tf.float32)\n",
    "a = tf.ones(shape=(2,3), dtype=tf.int32)\n",
    "b = tf.zeros(shape=[4,6], dtype=tf.float16, name = 'b')\n",
    "xx = tf.Variable([1.0])\n",
    "yy = 1.0\n",
    "\n",
    "# bias = tf.Variable(1.0)\n",
    "# y_predict = x**2 + bias\n",
    "# loss = (y - y_predict)**2 \n",
    "# with tf.Session() as sess:\n",
    "#     sess.run(tf.initialize_all_variables())\n",
    "#     start1 = time.time()\n",
    "# #     print ((start1))\n",
    "#     for step in range(100000):\n",
    "#         res = sess.run(xx)\n",
    "#     print (\"the cost time by Sess.run is %8f\" %(time.time() - start1))\n",
    "\n",
    "#     start2 = time.time()\n",
    "# #     print ((start1))\n",
    "#     for step in range(100000):\n",
    "#         res = yy\n",
    "#     print (\"the cost time by assignment is %8f\" %(time.time() - start2))\n",
    "    \n",
    "#     sess.run(tf.initialize_all_variables())\n",
    "#     sess.run(loss,feed_dict = {x: 3.0, y: 9.0})\n",
    "#     print (b.eval())\n",
    "#     print (a)\n",
    "#     print (loss.eval())\n",
    "#     print (loss)\n",
    "#     sess.run(tf.Print(loss, [loss],message = None, first_n = None, summarize = None, name = loss))\n",
    "#     debug_sess = tf_debug.LocalCLIDebugWrapperSession(sess=sess)\n",
    "#     debug_sess.run(loss,feed_dict = {x: 3.0, y: 9.0})\n",
    "#     writer = tf.summary.FileWriter('./logs', sess.graph)\n",
    "#     print ('Loss(x,y) = %5f'%sess.run(loss, feed_dict = {x: 3.0, y: 9.0}))\n",
    "#     print ('bias = %5f' %sess.run(bias))\n",
    "#     print ('y_predict_value =%5f' %sess.run(y_predict, feed_dict={x:9.0}))"
   ]
  },
  {
   "cell_type": "code",
   "execution_count": 117,
   "metadata": {},
   "outputs": [],
   "source": [
    "import tensorflow as tf\n",
    "\n",
    "with tf.name_scope('graph') as scope:\n",
    "     matrix1 = tf.constant([[3., 3.]],name ='matrix1')  #1 row by 2 column\n",
    "     matrix2 = tf.constant([[2.],[2.]],name ='matrix2') # 2 row by 1 column\n",
    "     product = tf.matmul(matrix1, matrix2,name='product')\n",
    "  \n",
    "sess = tf.Session()\n",
    "\n",
    "writer = tf.summary.FileWriter(\"E:\\\\logs\", sess.graph)\n",
    "\n",
    "init = tf.global_variables_initializer()\n",
    "\n",
    "sess.run(init)"
   ]
  },
  {
   "cell_type": "code",
   "execution_count": null,
   "metadata": {},
   "outputs": [],
   "source": []
  }
 ],
 "metadata": {
  "kernelspec": {
   "display_name": "tf",
   "language": "python",
   "name": "tf"
  },
  "language_info": {
   "codemirror_mode": {
    "name": "ipython",
    "version": 3
   },
   "file_extension": ".py",
   "mimetype": "text/x-python",
   "name": "python",
   "nbconvert_exporter": "python",
   "pygments_lexer": "ipython3",
   "version": "3.5.5"
  }
 },
 "nbformat": 4,
 "nbformat_minor": 2
}
