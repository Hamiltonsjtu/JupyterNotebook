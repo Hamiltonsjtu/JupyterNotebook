{
 "cells": [
  {
   "cell_type": "code",
   "execution_count": 13,
   "metadata": {},
   "outputs": [],
   "source": [
    "import tensorflow as tf\n",
    "import numpy as np\n",
    "import pandas as pd\n",
    "import matplotlib.pyplot as plt"
   ]
  },
  {
   "cell_type": "code",
   "execution_count": 45,
   "metadata": {},
   "outputs": [],
   "source": [
    "# 使用 NumPy 生成假数据(phony data), 总共 100 个点.\n",
    "x_data = np.float32(np.random.rand(2, 100)) # 随机输入\n",
    "y_data = np.dot([0.100, 0.200], x_data) + 0.300\n",
    "# 构造一个线性模型\n",
    "b = tf.Variable(tf.zeros([1]))\n",
    "W = tf.Variable(tf.random_uniform([1, 2], -1.0, 1.0))\n",
    "y = tf.matmul(W, x_data) + b"
   ]
  },
  {
   "cell_type": "code",
   "execution_count": 46,
   "metadata": {},
   "outputs": [
    {
     "name": "stdout",
     "output_type": "stream",
     "text": [
      "0 [[ 0.30699092 -0.03378627]] [0.6629683]\n",
      "20 [[0.08062549 0.10390309]] [0.36049873]\n",
      "40 [[0.08071242 0.1675831 ]] [0.3266795]\n",
      "60 [[0.08959547 0.18733463]] [0.3118346]\n",
      "80 [[0.09505794 0.1946624 ]] [0.30526152]\n",
      "100 [[0.09774692 0.19767496]] [0.30234125]\n",
      "120 [[0.09898788 0.19897363]] [0.30104214]\n",
      "140 [[0.09954786 0.19954452]] [0.30046394]\n",
      "160 [[0.09979844 0.19979748]] [0.30020654]\n",
      "180 [[0.09991021 0.19990985]] [0.30009195]\n",
      "200 [[0.09996001 0.19995989]] [0.30004093]\n",
      "220 [[0.09998222 0.19998215]] [0.30001822]\n",
      "240 [[0.09999207 0.19999205]] [0.30000812]\n",
      "260 [[0.09999646 0.19999644]] [0.30000365]\n",
      "280 [[0.09999843 0.1999984 ]] [0.30000162]\n",
      "300 [[0.09999927 0.19999926]] [0.30000076]\n",
      "320 [[0.09999967 0.19999969]] [0.3000003]\n",
      "340 [[0.09999985 0.19999984]] [0.30000016]\n",
      "360 [[0.09999985 0.19999984]] [0.30000016]\n",
      "380 [[0.09999985 0.19999984]] [0.30000016]\n"
     ]
    }
   ],
   "source": [
    "# 最小化方差\n",
    "loss = tf.reduce_mean(tf.square(y - y_data))\n",
    "optimizer = tf.train.GradientDescentOptimizer(0.5)\n",
    "train = optimizer.minimize(loss)\n",
    "# 初始化变量\n",
    "init = tf.global_variables_initializer()\n",
    "# 启动图 (graph)\n",
    "sess = tf.Session()\n",
    "sess.run(init)\n",
    "# 拟合平面\n",
    "for step in np.arange(400):\n",
    "    sess.run(train)\n",
    "    if step % 20 == 0:\n",
    "        print (step, sess.run(W), sess.run(b))"
   ]
  },
  {
   "cell_type": "code",
   "execution_count": 48,
   "metadata": {},
   "outputs": [
    {
     "name": "stdout",
     "output_type": "stream",
     "text": [
      "[name: \"/device:CPU:0\"\n",
      "device_type: \"CPU\"\n",
      "memory_limit: 268435456\n",
      "locality {\n",
      "}\n",
      "incarnation: 14498248002702546765\n",
      "]\n"
     ]
    }
   ],
   "source": [
    "import os\n",
    "from tensorflow.python.client import device_lib\n",
    "os.environ['TF_CPP_MIN_LOG_LEVEL'] = '99'\n",
    "print (device_lib.list_local_devices())"
   ]
  },
  {
   "cell_type": "code",
   "execution_count": null,
   "metadata": {},
   "outputs": [],
   "source": []
  }
 ],
 "metadata": {
  "kernelspec": {
   "display_name": "tf",
   "language": "python",
   "name": "tf"
  },
  "language_info": {
   "codemirror_mode": {
    "name": "ipython",
    "version": 3
   },
   "file_extension": ".py",
   "mimetype": "text/x-python",
   "name": "python",
   "nbconvert_exporter": "python",
   "pygments_lexer": "ipython3",
   "version": "3.5.5"
  }
 },
 "nbformat": 4,
 "nbformat_minor": 2
}
