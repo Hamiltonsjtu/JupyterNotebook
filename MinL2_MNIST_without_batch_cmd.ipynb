{
 "cells": [
  {
   "cell_type": "code",
   "execution_count": 2,
   "metadata": {},
   "outputs": [
    {
     "name": "stdout",
     "output_type": "stream",
     "text": [
      "WARNING:tensorflow:From D:\\Anaconda\\envs\\tf\\lib\\site-packages\\tensorflow\\python\\util\\tf_should_use.py:118: initialize_all_variables (from tensorflow.python.ops.variables) is deprecated and will be removed after 2017-03-02.\n",
      "Instructions for updating:\n",
      "Use `tf.global_variables_initializer` instead.\n"
     ]
    }
   ],
   "source": [
    "from tensorflow.examples.tutorials.mnist import input_data\n",
    "import tensorflow as tf\n",
    "import numpy as np\n",
    "import os \n",
    "import gzip\n",
    "import random\n",
    "\n",
    "# 测试集和训练集数据导入\n",
    "# def load_data(data_folder):\n",
    "files = ['t10k-labels-idx1-ubyte.gz', 'train-labels-idx1-ubyte.gz',\n",
    "         't10k-images-idx3-ubyte.gz', 'train-images-idx3-ubyte.gz']\n",
    "paths = []\n",
    "data_file = 'C:\\\\Users\\\\kc\\\\Downloads'\n",
    "train_x_file = os.path.join(data_file, files[3])\n",
    "train_y_file = os.path.join(data_file, files[1])\n",
    "test_x_file = os.path.join(data_file, files[2])\n",
    "test_y_file = os.path.join(data_file, files[0])\n",
    "# print (test_x_file)\n",
    "with gzip.open(train_y_file, 'rb') as lbpath:\n",
    "    y_train = np.frombuffer(lbpath.read(), dtype = np.uint8, offset=8)\n",
    "with gzip.open(train_x_file, 'rb') as imgpath:\n",
    "    x_train = np.frombuffer(imgpath.read(), dtype = np.uint8, offset=16).reshape(len(y_train), 784)\n",
    "with gzip.open(test_y_file, 'rb') as lbpath:\n",
    "    y_test = np.frombuffer(lbpath.read(), dtype = np.uint8, offset=8)\n",
    "with gzip.open(test_x_file, 'rb') as imgpath:\n",
    "    x_test = np.frombuffer(imgpath.read(), dtype = np.uint8, offset=16).reshape(len(y_test),784)\n",
    "x_train = x_train.astype('float')\n",
    "y_train = y_train.astype('uint8')\n",
    "# print ((y_train))\n",
    "# y_train = tf.one_hot(y_train, 10)\n",
    "# with tf.Session() as sess:\n",
    "#     print (sess.run(y_train))\n",
    "x_test = x_test.astype('float')\n",
    "y_test = y_test.astype('uint8')\n",
    "\n",
    "#  实现回归模型\n",
    "x = tf.placeholder('float', [None, 784])\n",
    "W = tf.Variable(tf.random_uniform([784, 10]))\n",
    "b = tf.Variable(tf.zeros([10]))\n",
    "y = tf.nn.softmax(tf.matmul(x,W) + b)\n",
    "\n",
    "# 训练模型\n",
    "y_ = tf.placeholder('float', [None, 10])\n",
    "cross_entropy = - tf.reduce_sum(y_*tf.log(y))\n",
    "train_step = tf.train.GradientDescentOptimizer(0.01).minimize(cross_entropy)\n",
    "init  = tf.initialize_all_variables()"
   ]
  },
  {
   "cell_type": "code",
   "execution_count": 5,
   "metadata": {},
   "outputs": [],
   "source": [
    "batch_size = 100\n",
    "correct_prediction = tf.equal(tf.argmax(y,1), tf.argmax(y_,1))\n",
    "accuracy = tf.reduce_mean(tf.cast(correct_prediction, dtype = 'float'))"
   ]
  },
  {
   "cell_type": "code",
   "execution_count": null,
   "metadata": {},
   "outputs": [],
   "source": [
    "for i in range(500):\n",
    "#     print (\"Step:\" , i+1)\n",
    "    train_index = np.floor(np.random.uniform(0,1,batch_size)*np.shape(x_train[:,0])).astype(int)\n",
    "    x_train_batch = x_train[train_index,:]\n",
    "    # print (y_train)\n",
    "    y_train_batch = y_train[train_index]\n",
    "#     print (y_train_batch)\n",
    "    with tf.Session() as sess:\n",
    "        sess.run(init)\n",
    "        output = sess.run(tf.one_hot(y_train_batch, 10))\n",
    "        sess.run(train_step, feed_dict = {x:x_train_batch, y_:output})\n",
    "        accuracy.eval(feed_dict={x:x_test, y_: sess.run(tf.one_hot(y_test, 10))})\n",
    "#         sess.run(accuracy, feed_dict={x:x_test, y_: sess.run(tf.one_hot(y_test, 10))})\n",
    "#     print (accuracy)\n",
    "    print (\"step %d, training accuracy %f\"%(i,accuracy))"
   ]
  },
  {
   "cell_type": "code",
   "execution_count": 296,
   "metadata": {},
   "outputs": [
    {
     "name": "stdout",
     "output_type": "stream",
     "text": [
      "Object `tf.next_batch` not found.\n"
     ]
    }
   ],
   "source": [
    "# 用tf自带的随机变量训练\n"
   ]
  },
  {
   "cell_type": "code",
   "execution_count": 1,
   "metadata": {},
   "outputs": [],
   "source": [
    "# 保存训练的模型\n",
    "# 创建saver对象，它添加了一些op用来save和restore模型参数明variable和op  初始化\n",
    "# saver = tf.train.Saver()\n",
    "# save_path = data_file\n",
    "# print (save_path)\n",
    "# with tf.Session() as sess:\n",
    "#     saver.save(sess, \"file_name.ckpt\") \n"
   ]
  },
  {
   "cell_type": "code",
   "execution_count": 307,
   "metadata": {},
   "outputs": [],
   "source": [
    "# data_set = tf.data.Dataset.from_tensor_slices(tf.random_uniform([4,10], minval = 0, maxval = 1))"
   ]
  },
  {
   "cell_type": "code",
   "execution_count": 328,
   "metadata": {},
   "outputs": [],
   "source": [
    "# \n",
    "# dataset = tf.data.Dataset.range(100)\n",
    "# next_element = dataset.make_one_shot_iterator().get_next()\n",
    "# with tf.Session() as sess:\n",
    "#     for i in range(100):\n",
    "#         value = sess.run(next_element)\n",
    "#         print ('valeu is %5d' %value)\n"
   ]
  },
  {
   "cell_type": "code",
   "execution_count": 335,
   "metadata": {},
   "outputs": [],
   "source": [
    "# 可初始化迭代器\n",
    "# max_value = tf.placeholder(tf.int64, shape = [])\n",
    "# dataset = tf.data.Dataset.range(max_value)\n",
    "# iterator = dataset.make_initializable_iterator()\n",
    "# next_element = iterator.get_next()\n",
    "\n",
    "# with tf.Session() as sess:\n",
    "#     sess.run(iterator.initializer, feed_dict={max_value:100})\n",
    "#     for i in range(100):\n",
    "#         value = sess.run(next_element)\n",
    "#         print ('value is %5d' %value)\n"
   ]
  },
  {
   "cell_type": "code",
   "execution_count": null,
   "metadata": {},
   "outputs": [],
   "source": []
  }
 ],
 "metadata": {
  "kernelspec": {
   "display_name": "tf",
   "language": "python",
   "name": "tf"
  },
  "language_info": {
   "codemirror_mode": {
    "name": "ipython",
    "version": 3
   },
   "file_extension": ".py",
   "mimetype": "text/x-python",
   "name": "python",
   "nbconvert_exporter": "python",
   "pygments_lexer": "ipython3",
   "version": "3.5.5"
  }
 },
 "nbformat": 4,
 "nbformat_minor": 2
}
